{
 "cells": [
  {
   "cell_type": "code",
   "execution_count": 3,
   "id": "6b1bada2",
   "metadata": {},
   "outputs": [],
   "source": [
    "import numpy as np\n",
    "import pandas as pd\n",
    "import matplotlib.pyplot as plt\n",
    "import random\n",
    "import scipy.stats\n",
    "from scipy.stats import norm\n",
    "from sklearn.linear_model import LogisticRegression\n",
    "from tqdm.auto import tqdm\n",
    "import time\n",
    "import scipy.linalg as scilinalg\n",
    "import seaborn as sns\n",
    "from scipy.stats import ortho_group\n",
    "import pandas as pd\n",
    "\n",
    "import multiprocessing as mp\n",
    "from joblib import Parallel, delayed\n",
    "from utils import *\n",
    "from conf_simu import *"
   ]
  },
  {
   "cell_type": "code",
   "execution_count": 4,
   "id": "25d6f156",
   "metadata": {},
   "outputs": [],
   "source": [
    "d1 = d2 = 500\n",
    "alpha = 0.1\n",
    "sd = 1\n",
    "het = 'homo' # 'homo' | 'logis' | 'rank1'\n",
    "pr = 0.8\n",
    "rk = 40\n",
    "k_star = 8\n",
    "M_mean = 2\n",
    "mis_set = 2\n",
    "full_exp = False\n",
    "tail = 't'\n"
   ]
  },
  {
   "cell_type": "code",
   "execution_count": 5,
   "id": "465814a7",
   "metadata": {},
   "outputs": [],
   "source": [
    "# generate the data\n",
    "M_star, M_obs, P, S = gen_data(d1,d2,het,sd,tail,pr,M_mean,mis_set,k_star)"
   ]
  },
  {
   "cell_type": "code",
   "execution_count": 6,
   "id": "30e2ebdb",
   "metadata": {},
   "outputs": [],
   "source": [
    "# simulation\n",
    "coverage_cmc_als, coverage_als, length_cmc_als, length_als = cfmc_simu(M_star, S, P, \"als\", rk, alpha)\n"
   ]
  },
  {
   "cell_type": "code",
   "execution_count": 8,
   "id": "8d653e0e",
   "metadata": {},
   "outputs": [
    {
     "data": {
      "text/plain": [
       "(0.899839282525447, 0.988352943510784, 14.9783, 84.0622)"
      ]
     },
     "execution_count": 8,
     "metadata": {},
     "output_type": "execute_result"
    }
   ],
   "source": [
    "coverage_cmc_als, coverage_als, length_cmc_als, length_als\n",
    "\n"
   ]
  },
  {
   "cell_type": "code",
   "execution_count": null,
   "id": "b155a9a6",
   "metadata": {},
   "outputs": [],
   "source": []
  }
 ],
 "metadata": {
  "kernelspec": {
   "display_name": "Python 3 (ipykernel)",
   "language": "python",
   "name": "python3"
  },
  "language_info": {
   "codemirror_mode": {
    "name": "ipython",
    "version": 3
   },
   "file_extension": ".py",
   "mimetype": "text/x-python",
   "name": "python",
   "nbconvert_exporter": "python",
   "pygments_lexer": "ipython3",
   "version": "3.9.13"
  }
 },
 "nbformat": 4,
 "nbformat_minor": 5
}
