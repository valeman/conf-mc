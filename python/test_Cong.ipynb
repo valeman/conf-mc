{
 "cells": [
  {
   "cell_type": "code",
   "execution_count": 2,
   "id": "5cee034d",
   "metadata": {},
   "outputs": [],
   "source": [
    "import numpy as np\n",
    "import pandas as pd\n",
    "import matplotlib.pyplot as plt\n",
    "import random\n",
    "import scipy.stats\n",
    "from scipy.stats import norm\n",
    "from sklearn.linear_model import LogisticRegression\n",
    "from tqdm.auto import tqdm\n",
    "import time\n",
    "import scipy.linalg as scilinalg\n",
    "import seaborn as sns\n",
    "from scipy.stats import ortho_group\n",
    "import pandas as pd\n",
    "\n",
    "import multiprocessing as mp\n",
    "from joblib import Parallel, delayed\n",
    "from utils import *\n",
    "from conf_simu import *"
   ]
  },
  {
   "cell_type": "code",
   "execution_count": 18,
   "id": "0847ece4",
   "metadata": {},
   "outputs": [],
   "source": [
    "d1 = d2 = 500\n",
    "alpha = 0.1\n",
    "sd = 1\n",
    "het = 'homo' # 'homo' | 'logis' | 'rank1'\n",
    "pr = 0.8\n",
    "rk = 10\n",
    "k_star = 8\n",
    "M_mean = 2\n",
    "mis_set = 2\n",
    "full_exp = False\n",
    "tail = 'gaussian'\n"
   ]
  },
  {
   "cell_type": "code",
   "execution_count": 19,
   "id": "233729be",
   "metadata": {},
   "outputs": [],
   "source": [
    "# generate the data\n",
    "M_star, M_obs, P, S = gen_data(d1,d2,het,sd,tail,pr,M_mean,mis_set,k_star)"
   ]
  },
  {
   "cell_type": "code",
   "execution_count": 20,
   "id": "cdc7c009",
   "metadata": {},
   "outputs": [
    {
     "name": "stdout",
     "output_type": "stream",
     "text": [
      "Iteration: 1; Mean diff: 1.9646\n",
      "Iteration: 2; Mean diff: 0.6940\n",
      "Iteration: 3; Mean diff: 0.0345\n",
      "Iteration: 4; Mean diff: 0.0162\n",
      "Iteration: 5; Mean diff: 0.0129\n",
      "Iteration: 6; Mean diff: 0.0109\n",
      "Iteration: 7; Mean diff: 0.0094\n",
      "Iteration: 8; Mean diff: 0.0081\n",
      "Iteration: 9; Mean diff: 0.0070\n",
      "Iteration: 10; Mean diff: 0.0061\n",
      "Iteration: 11; Mean diff: 0.0053\n",
      "Iteration: 12; Mean diff: 0.0047\n",
      "Iteration: 13; Mean diff: 0.0042\n",
      "Iteration: 14; Mean diff: 0.0039\n",
      "Iteration: 15; Mean diff: 0.0036\n",
      "Iteration: 16; Mean diff: 0.0033\n",
      "Iteration: 17; Mean diff: 0.0031\n",
      "Iteration: 18; Mean diff: 0.0029\n",
      "Iteration: 19; Mean diff: 0.0027\n",
      "Iteration: 20; Mean diff: 0.0025\n",
      "Iteration: 21; Mean diff: 0.0023\n",
      "Iteration: 22; Mean diff: 0.0022\n",
      "Iteration: 23; Mean diff: 0.0020\n",
      "Iteration: 24; Mean diff: 0.0019\n",
      "Iteration: 25; Mean diff: 0.0018\n",
      "Iteration: 26; Mean diff: 0.0016\n",
      "Iteration: 27; Mean diff: 0.0015\n",
      "Iteration: 28; Mean diff: 0.0014\n",
      "Iteration: 29; Mean diff: 0.0013\n",
      "Iteration: 30; Mean diff: 0.0013\n",
      "Iteration: 31; Mean diff: 0.0012\n",
      "Iteration: 32; Mean diff: 0.0011\n",
      "Iteration: 33; Mean diff: 0.0011\n",
      "Iteration: 34; Mean diff: 0.0010\n",
      "Iteration: 35; Mean diff: 0.0010\n",
      "Iteration: 1; Mean diff: 1.9301\n",
      "Iteration: 2; Mean diff: 0.6809\n",
      "Iteration: 3; Mean diff: 0.0238\n",
      "Iteration: 4; Mean diff: 0.0133\n",
      "Iteration: 5; Mean diff: 0.0105\n",
      "Iteration: 6; Mean diff: 0.0088\n",
      "Iteration: 7; Mean diff: 0.0075\n",
      "Iteration: 8; Mean diff: 0.0066\n",
      "Iteration: 9; Mean diff: 0.0058\n",
      "Iteration: 10; Mean diff: 0.0052\n",
      "Iteration: 11; Mean diff: 0.0047\n",
      "Iteration: 12; Mean diff: 0.0043\n",
      "Iteration: 13; Mean diff: 0.0040\n",
      "Iteration: 14; Mean diff: 0.0037\n",
      "Iteration: 15; Mean diff: 0.0035\n",
      "Iteration: 16; Mean diff: 0.0033\n",
      "Iteration: 17; Mean diff: 0.0032\n",
      "Iteration: 18; Mean diff: 0.0031\n",
      "Iteration: 19; Mean diff: 0.0030\n",
      "Iteration: 20; Mean diff: 0.0029\n",
      "Iteration: 21; Mean diff: 0.0029\n",
      "Iteration: 22; Mean diff: 0.0028\n",
      "Iteration: 23; Mean diff: 0.0027\n",
      "Iteration: 24; Mean diff: 0.0027\n",
      "Iteration: 25; Mean diff: 0.0026\n",
      "Iteration: 26; Mean diff: 0.0026\n",
      "Iteration: 27; Mean diff: 0.0025\n",
      "Iteration: 28; Mean diff: 0.0024\n",
      "Iteration: 29; Mean diff: 0.0023\n",
      "Iteration: 30; Mean diff: 0.0023\n",
      "Iteration: 31; Mean diff: 0.0022\n",
      "Iteration: 32; Mean diff: 0.0021\n",
      "Iteration: 33; Mean diff: 0.0020\n",
      "Iteration: 34; Mean diff: 0.0019\n",
      "Iteration: 35; Mean diff: 0.0018\n",
      "Iteration: 36; Mean diff: 0.0017\n",
      "Iteration: 37; Mean diff: 0.0017\n",
      "Iteration: 38; Mean diff: 0.0016\n",
      "Iteration: 39; Mean diff: 0.0015\n",
      "Iteration: 40; Mean diff: 0.0014\n",
      "Iteration: 41; Mean diff: 0.0014\n",
      "Iteration: 42; Mean diff: 0.0013\n",
      "Iteration: 43; Mean diff: 0.0012\n",
      "Iteration: 44; Mean diff: 0.0012\n",
      "Iteration: 45; Mean diff: 0.0011\n",
      "Iteration: 46; Mean diff: 0.0010\n",
      "Iteration: 47; Mean diff: 0.0010\n"
     ]
    },
    {
     "data": {
      "text/plain": [
       "(0.8998536692926012, 0.8888087076793554, 3.4052, 3.2719)"
      ]
     },
     "execution_count": 20,
     "metadata": {},
     "output_type": "execute_result"
    }
   ],
   "source": [
    "# simulation\n",
    "coverage_cmc_als, coverage_als, length_cmc_als, length_als = cfmc_simu(M_star, S, P, \"als\", rk, alpha)\n",
    "\n",
    "coverage_cmc_als, coverage_als, length_cmc_als, length_als"
   ]
  },
  {
   "cell_type": "code",
   "execution_count": null,
   "id": "9ea501a0",
   "metadata": {},
   "outputs": [],
   "source": []
  }
 ],
 "metadata": {
  "kernelspec": {
   "display_name": "Python 3 (ipykernel)",
   "language": "python",
   "name": "python3"
  },
  "language_info": {
   "codemirror_mode": {
    "name": "ipython",
    "version": 3
   },
   "file_extension": ".py",
   "mimetype": "text/x-python",
   "name": "python",
   "nbconvert_exporter": "python",
   "pygments_lexer": "ipython3",
   "version": "3.9.13"
  }
 },
 "nbformat": 4,
 "nbformat_minor": 5
}
